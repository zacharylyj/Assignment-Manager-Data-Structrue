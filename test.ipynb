{
 "cells": [
  {
   "cell_type": "code",
   "execution_count": 10,
   "metadata": {},
   "outputs": [
    {
     "data": {
      "text/plain": [
       "False"
      ]
     },
     "execution_count": 10,
     "metadata": {},
     "output_type": "execute_result"
    }
   ],
   "source": [
    "class Graph:\n",
    "    def __init__(self):\n",
    "        self.graph = {}\n",
    "\n",
    "    def add_edge(self, node, dependency):\n",
    "        if node not in self.graph:\n",
    "            self.graph[node] = []\n",
    "        self.graph[node].append(dependency)\n",
    "\n",
    "    def dfs(self, node, visited, stack, circular_deps):\n",
    "        visited.add(node)\n",
    "        stack.add(node)\n",
    "\n",
    "        for neighbor in self.graph.get(node, []):\n",
    "            if neighbor not in visited:\n",
    "                self.dfs(neighbor, visited, stack, circular_deps)\n",
    "            elif neighbor in stack:\n",
    "                # Add the circular dependency path to the result\n",
    "                circular_deps.add(frozenset(stack))\n",
    "\n",
    "        stack.remove(node)\n",
    "\n",
    "    def find_circular_dependencies(self):\n",
    "        visited = set()\n",
    "        circular_deps = set()\n",
    "\n",
    "        for node in self.graph:\n",
    "            if node not in visited:\n",
    "                self.dfs(node, visited, set(), circular_deps)\n",
    "\n",
    "        # Converting the set of frozensets to a list of lists for better readability\n",
    "        return [list(dep) for dep in circular_deps]\n",
    "\n",
    "# Create a graph\n",
    "g = Graph()\n",
    "\n",
    "# Add edges\n",
    "g.add_edge('c', 'a')\n",
    "g.add_edge('a', 'b')\n",
    "g.add_edge('b', 'c')\n",
    "g.add_edge('b', 'a')\n",
    "g.add_edge('d', '5')\n",
    "\n",
    "# Find circular dependencies\n",
    "g.find_circular_dependencies()\n"
   ]
  },
  {
   "cell_type": "code",
   "execution_count": 5,
   "metadata": {},
   "outputs": [
    {
     "name": "stdout",
     "output_type": "stream",
     "text": [
      "a = (3 + (4 * 5)) => 23\n",
      "b = 23 ** 2 => 529\n",
      "c = 23 + 529 => 552\n",
      "d = x => None\n"
     ]
    }
   ],
   "source": [
    "class VariableCalculator:\n",
    "    def __init__(self):\n",
    "        self.variables = {}\n",
    "\n",
    "    def process_input(self, input_line):\n",
    "        # Split input into variable and expression\n",
    "        var, expr = input_line.split('=', 1)\n",
    "        var = var.strip()\n",
    "        expr = expr.strip()\n",
    "\n",
    "        # Evaluate expression\n",
    "        try:\n",
    "            # Replace variables in the expression with their values\n",
    "            for key in self.variables:\n",
    "                expr = expr.replace(key, str(self.variables[key]))\n",
    "\n",
    "            # Evaluate the expression safely just in case for rm, -rf DONT REMOVE\n",
    "            value = eval(expr, {\"__builtins__\": None}, {})\n",
    "        except Exception as e:\n",
    "            # Handle other exceptions\n",
    "            print(f\"{var} = {expr} => None\")\n",
    "            return\n",
    "\n",
    "        # Store the result in the variables dictionary\n",
    "        self.variables[var] = value\n",
    "        print(f\"{var} = {expr} => {value}\")\n",
    "\n",
    "# Example usage\n",
    "calc = VariableCalculator()\n",
    "inputs = [\n",
    "    \"a = (3 + (4 * 5))\",\n",
    "    \"b = a ** 2\",\n",
    "    \"c = a + b\",\n",
    "    \"d = x\"\n",
    "]\n",
    "\n",
    "for input_line in inputs:\n",
    "    calc.process_input(input_line)\n"
   ]
  },
  {
   "cell_type": "code",
   "execution_count": 6,
   "metadata": {},
   "outputs": [
    {
     "ename": "NameError",
     "evalue": "name 'buildParseTree' is not defined",
     "output_type": "error",
     "traceback": [
      "\u001b[1;31m---------------------------------------------------------------------------\u001b[0m",
      "\u001b[1;31mNameError\u001b[0m                                 Traceback (most recent call last)",
      "Cell \u001b[1;32mIn [6], line 2\u001b[0m\n\u001b[0;32m      1\u001b[0m exp \u001b[38;5;241m=\u001b[39m \u001b[38;5;124m'\u001b[39m\u001b[38;5;124m( 2 + ( 4 * 5) )\u001b[39m\u001b[38;5;124m'\u001b[39m\n\u001b[1;32m----> 2\u001b[0m tree \u001b[38;5;241m=\u001b[39m \u001b[43mbuildParseTree\u001b[49m(exp)\n\u001b[0;32m      3\u001b[0m tree\u001b[38;5;241m.\u001b[39mprintPreorder(\u001b[38;5;241m0\u001b[39m)\n\u001b[0;32m      5\u001b[0m \u001b[38;5;28mprint\u001b[39m (\u001b[38;5;124mf\u001b[39m\u001b[38;5;124m'\u001b[39m\u001b[38;5;124mThe expression: \u001b[39m\u001b[38;5;132;01m{\u001b[39;00mexp\u001b[38;5;132;01m}\u001b[39;00m\u001b[38;5;124m evaluates to: \u001b[39m\u001b[38;5;132;01m{\u001b[39;00mevaluate(tree)\u001b[38;5;132;01m}\u001b[39;00m\u001b[38;5;124m'\u001b[39m)\n",
      "\u001b[1;31mNameError\u001b[0m: name 'buildParseTree' is not defined"
     ]
    }
   ],
   "source": [
    "exp = '( 2 + ( 4 * 5) )'\n",
    "tree = buildParseTree(exp)\n",
    "tree.printPreorder(0)\n",
    "\n",
    "print (f'The expression: {exp} evaluates to: {evaluate(tree)}')"
   ]
  },
  {
   "cell_type": "code",
   "execution_count": null,
   "metadata": {},
   "outputs": [
    {
     "name": "stdout",
     "output_type": "stream",
     "text": [
      "+\n",
      "-3\n",
      "-*\n",
      "--4\n",
      "--5\n",
      "The expression: (3 + (4 * 5)) evaluates to: 23\n"
     ]
    }
   ],
   "source": [
    "exp = '(3 + (4 * 5))'\n",
    "tree = buildParseTree(exp)\n",
    "tree.printPreorder(0)\n",
    "\n",
    "print (f'The expression: {exp} evaluates to: {evaluate(tree)}')"
   ]
  },
  {
   "cell_type": "code",
   "execution_count": null,
   "metadata": {},
   "outputs": [
    {
     "ename": "ValueError",
     "evalue": "invalid literal for int() with base 10: 'a'",
     "output_type": "error",
     "traceback": [
      "\u001b[1;31m---------------------------------------------------------------------------\u001b[0m",
      "\u001b[1;31mValueError\u001b[0m                                Traceback (most recent call last)",
      "Cell \u001b[1;32mIn [5], line 45\u001b[0m\n\u001b[0;32m     37\u001b[0m \u001b[38;5;66;03m# Example Usage\u001b[39;00m\n\u001b[0;32m     38\u001b[0m assignments \u001b[38;5;241m=\u001b[39m [\n\u001b[0;32m     39\u001b[0m     (\u001b[38;5;124m'\u001b[39m\u001b[38;5;124ma\u001b[39m\u001b[38;5;124m'\u001b[39m, \u001b[38;5;124m'\u001b[39m\u001b[38;5;124m(3 + (4 * 5))\u001b[39m\u001b[38;5;124m'\u001b[39m),\n\u001b[0;32m     40\u001b[0m     (\u001b[38;5;124m'\u001b[39m\u001b[38;5;124mb\u001b[39m\u001b[38;5;124m'\u001b[39m, \u001b[38;5;124m'\u001b[39m\u001b[38;5;124ma ** 2\u001b[39m\u001b[38;5;124m'\u001b[39m),\n\u001b[0;32m     41\u001b[0m     (\u001b[38;5;124m'\u001b[39m\u001b[38;5;124mc\u001b[39m\u001b[38;5;124m'\u001b[39m, \u001b[38;5;124m'\u001b[39m\u001b[38;5;124ma + b\u001b[39m\u001b[38;5;124m'\u001b[39m),\n\u001b[0;32m     42\u001b[0m     (\u001b[38;5;124m'\u001b[39m\u001b[38;5;124md\u001b[39m\u001b[38;5;124m'\u001b[39m, \u001b[38;5;124m'\u001b[39m\u001b[38;5;124mx\u001b[39m\u001b[38;5;124m'\u001b[39m)\n\u001b[0;32m     43\u001b[0m ]\n\u001b[1;32m---> 45\u001b[0m results \u001b[38;5;241m=\u001b[39m \u001b[43mprocess_assignments\u001b[49m\u001b[43m(\u001b[49m\u001b[43massignments\u001b[49m\u001b[43m)\u001b[49m\n\u001b[0;32m     46\u001b[0m \u001b[38;5;28;01mfor\u001b[39;00m var, exp \u001b[38;5;129;01min\u001b[39;00m assignments:\n\u001b[0;32m     47\u001b[0m     \u001b[38;5;28mprint\u001b[39m(\u001b[38;5;124mf\u001b[39m\u001b[38;5;124m\"\u001b[39m\u001b[38;5;132;01m{\u001b[39;00mvar\u001b[38;5;132;01m}\u001b[39;00m\u001b[38;5;124m = \u001b[39m\u001b[38;5;132;01m{\u001b[39;00mexp\u001b[38;5;132;01m}\u001b[39;00m\u001b[38;5;124m => \u001b[39m\u001b[38;5;132;01m{\u001b[39;00mresults\u001b[38;5;241m.\u001b[39mget(var, \u001b[38;5;124m'\u001b[39m\u001b[38;5;124mNone\u001b[39m\u001b[38;5;124m'\u001b[39m)\u001b[38;5;132;01m}\u001b[39;00m\u001b[38;5;124m\"\u001b[39m)\n",
      "Cell \u001b[1;32mIn [5], line 33\u001b[0m, in \u001b[0;36mprocess_assignments\u001b[1;34m(assignments)\u001b[0m\n\u001b[0;32m     31\u001b[0m variables \u001b[38;5;241m=\u001b[39m {}\n\u001b[0;32m     32\u001b[0m \u001b[38;5;28;01mfor\u001b[39;00m var, exp \u001b[38;5;129;01min\u001b[39;00m assignments:\n\u001b[1;32m---> 33\u001b[0m     tree \u001b[38;5;241m=\u001b[39m \u001b[43mbuildParseTree\u001b[49m\u001b[43m(\u001b[49m\u001b[43mexp\u001b[49m\u001b[43m)\u001b[49m\n\u001b[0;32m     34\u001b[0m     variables[var] \u001b[38;5;241m=\u001b[39m evaluate_with_variables(tree, variables)\n\u001b[0;32m     35\u001b[0m \u001b[38;5;28;01mreturn\u001b[39;00m variables\n",
      "Cell \u001b[1;32mIn [1], line 114\u001b[0m, in \u001b[0;36mbuildParseTree\u001b[1;34m(exp)\u001b[0m\n\u001b[0;32m    112\u001b[0m     currentTree \u001b[38;5;241m=\u001b[39m currentTree\u001b[38;5;241m.\u001b[39mgetRightTree()\n\u001b[0;32m    113\u001b[0m \u001b[38;5;28;01melif\u001b[39;00m t \u001b[38;5;129;01mnot\u001b[39;00m \u001b[38;5;129;01min\u001b[39;00m [\u001b[38;5;124m'\u001b[39m\u001b[38;5;124m+\u001b[39m\u001b[38;5;124m'\u001b[39m, \u001b[38;5;124m'\u001b[39m\u001b[38;5;124m-\u001b[39m\u001b[38;5;124m'\u001b[39m, \u001b[38;5;124m'\u001b[39m\u001b[38;5;124m*\u001b[39m\u001b[38;5;124m'\u001b[39m, \u001b[38;5;124m'\u001b[39m\u001b[38;5;124m/\u001b[39m\u001b[38;5;124m'\u001b[39m, \u001b[38;5;124m'\u001b[39m\u001b[38;5;124m**\u001b[39m\u001b[38;5;124m'\u001b[39m, \u001b[38;5;124m'\u001b[39m\u001b[38;5;124m)\u001b[39m\u001b[38;5;124m'\u001b[39m]:\n\u001b[1;32m--> 114\u001b[0m     currentTree\u001b[38;5;241m.\u001b[39msetKey(\u001b[38;5;28;43mint\u001b[39;49m\u001b[43m(\u001b[49m\u001b[43mt\u001b[49m\u001b[43m)\u001b[49m)\n\u001b[0;32m    115\u001b[0m     parent \u001b[38;5;241m=\u001b[39m stack\u001b[38;5;241m.\u001b[39mpop()\n\u001b[0;32m    116\u001b[0m     currentTree \u001b[38;5;241m=\u001b[39m parent\n",
      "\u001b[1;31mValueError\u001b[0m: invalid literal for int() with base 10: 'a'"
     ]
    }
   ],
   "source": [
    "def is_number(s):\n",
    "    try:\n",
    "        float(s)\n",
    "        return True\n",
    "    except ValueError:\n",
    "        return False\n",
    "\n",
    "def evaluate_with_variables(tree, variables):\n",
    "    if tree.getLeftTree() is None and tree.getRightTree() is None:\n",
    "        key = tree.getKey()\n",
    "        if is_number(key):\n",
    "            return float(key)\n",
    "        return variables.get(key, None)\n",
    "\n",
    "    leftVal = evaluate_with_variables(tree.getLeftTree(), variables) if tree.getLeftTree() else None\n",
    "    rightVal = evaluate_with_variables(tree.getRightTree(), variables) if tree.getRightTree() else None\n",
    "    op = tree.getKey()\n",
    "\n",
    "    if op == '+':\n",
    "        return leftVal + rightVal\n",
    "    elif op == '-':\n",
    "        return leftVal - rightVal\n",
    "    elif op == '*':\n",
    "        return leftVal * rightVal\n",
    "    elif op == '/':\n",
    "        return leftVal / rightVal\n",
    "    elif op == '**':\n",
    "        return leftVal ** rightVal\n",
    "\n",
    "def process_assignments(assignments):\n",
    "    variables = {}\n",
    "    for var, exp in assignments:\n",
    "        tree = buildParseTree(exp)\n",
    "        variables[var] = evaluate_with_variables(tree, variables)\n",
    "    return variables\n",
    "\n",
    "# Example Usage\n",
    "assignments = [\n",
    "    ('a', '(3 + (4 * 5))'),\n",
    "    ('b', 'a ** 2'),\n",
    "    ('c', 'a + b'),\n",
    "    ('d', 'x')\n",
    "]\n",
    "\n",
    "results = process_assignments(assignments)\n",
    "for var, exp in assignments:\n",
    "    print(f\"{var} = {exp} => {results.get(var, 'None')}\")\n"
   ]
  },
  {
   "cell_type": "code",
   "execution_count": null,
   "metadata": {},
   "outputs": [],
   "source": [
    "class VariableCalculator:\n",
    "    def __init__(self):\n",
    "        self.variables = {}\n",
    "\n",
    "    def process_input(self, input_line):\n",
    "        # Split input into variable and expression\n",
    "        var, expr = input_line.split('=', 1)\n",
    "        var = var.strip()\n",
    "        expr = expr.strip()\n",
    "\n",
    "        # Evaluate expression\n",
    "        try:\n",
    "            # Replace variables in the expression with their values\n",
    "            for key in self.variables:\n",
    "                expr = expr.replace(key, str(self.variables[key]))\n",
    "\n",
    "            # Evaluate the expression safely just in case for rm, -rf DONT REMOVE\n",
    "            value = eval(expr, {\"__builtins__\": None}, {})\n",
    "        except Exception as e:\n",
    "            # Handle other exceptions\n",
    "            print(f\"{var} = {expr} => None\")\n",
    "            return\n",
    "\n",
    "        # Store the result in the variables dictionary\n",
    "        self.variables[var] = value\n",
    "        print(f\"{var} = {expr} => {value}\")\n",
    "\n",
    "# Example usage\n",
    "calc = VariableCalculator()\n",
    "inputs = [\n",
    "    \"a = (3 + (4 * 5))\",\n",
    "    \"b = a ** 2\",\n",
    "    \"c = a + b\",\n",
    "    \"d = x\"\n",
    "]\n",
    "\n",
    "for input_line in inputs:\n",
    "    calc.process_input(input_line)\n"
   ]
  }
 ],
 "metadata": {
  "kernelspec": {
   "display_name": "Python 3",
   "language": "python",
   "name": "python3"
  },
  "language_info": {
   "codemirror_mode": {
    "name": "ipython",
    "version": 3
   },
   "file_extension": ".py",
   "mimetype": "text/x-python",
   "name": "python",
   "nbconvert_exporter": "python",
   "pygments_lexer": "ipython3",
   "version": "3.10.8"
  }
 },
 "nbformat": 4,
 "nbformat_minor": 2
}
