{
 "cells": [
  {
   "cell_type": "code",
   "execution_count": 1,
   "metadata": {},
   "outputs": [
    {
     "name": "stdout",
     "output_type": "stream",
     "text": [
      "['(', '(', '(', 'l', '*', '-1', ')', 'emon', '+', '2', ')', ')']\n"
     ]
    }
   ],
   "source": [
    "class ExpressionTokenizer:\n",
    "    def __init__(self):\n",
    "        pass\n",
    "\n",
    "    def _isvariable(self, char):\n",
    "        # Variable criteria remain the same, identifying alphabetic chars\n",
    "        return char.isalpha()\n",
    "\n",
    "    def _isoperator(self, char):\n",
    "        # Operator criteria\n",
    "        return char in {'+', '-', '*', '/', '**'}\n",
    "\n",
    "    def _tokenize_inner(self, exp):\n",
    "        tokens = []\n",
    "        i = 0\n",
    "        while i < len(exp):\n",
    "            if exp[i] == '*' and i + 1 < len(exp) and exp[i + 1] == '*':\n",
    "                tokens.append('**')\n",
    "                i += 2\n",
    "            elif exp[i] == '-':\n",
    "                if (i != 0 and (exp[i - 1]).isdigit() or self._isvariable(exp[i - 1]) or exp[i - 1] == ')') and ((exp[i + 1]).isdigit() or self._isvariable(exp[i + 1]) or self._isoperator(exp[i + 1])):\n",
    "                    tokens.append(exp[i])\n",
    "                    i += 1\n",
    "                else:\n",
    "                    if (exp[i + 1]).isdigit() or self._isvariable(exp[i + 1]):\n",
    "                        tokens.extend(['(', exp[i + 1], '*', '-1', ')'])\n",
    "                        i += 2\n",
    "                    elif exp[i + 1] == '(':\n",
    "                        tokens.append('(')\n",
    "                        j = i + 1\n",
    "                        bracket_count = 1\n",
    "                        while j < len(exp) and bracket_count > 0:\n",
    "                            j += 1\n",
    "                            if exp[j] == '(':\n",
    "                                bracket_count += 1\n",
    "                            elif exp[j] == ')':\n",
    "                                bracket_count -= 1\n",
    "                        inside_tokens = self._tokenize_inner(exp[i + 2:j])\n",
    "                        tokens.extend(['(', *inside_tokens, ')', '*', '-1', ')'])\n",
    "                        i = j + 1\n",
    "                    else:\n",
    "                        print(\"Error\")\n",
    "                        break\n",
    "            elif self._isvariable(exp[i]):\n",
    "                # Start grouping variable chars\n",
    "                var_start = i\n",
    "                while i < len(exp) and self._isvariable(exp[i]):\n",
    "                    i += 1\n",
    "                # Append the entire variable as one token\n",
    "                tokens.append(exp[var_start:i])\n",
    "                continue  # Skip the next else block after variable\n",
    "            else:\n",
    "                tokens.append(exp[i])\n",
    "                i += 1\n",
    "        return tokens\n",
    "\n",
    "    def tokenize(self, expression):\n",
    "        exp = ''.join(('(',expression.replace(\" \", \"\"),')'))\n",
    "        return self._tokenize_inner(exp)\n",
    "\n",
    "# Example usage\n",
    "tkn = ExpressionTokenizer()\n",
    "print(tkn.tokenize(\"(-lemon+2)\"))\n"
   ]
  }
 ],
 "metadata": {
  "kernelspec": {
   "display_name": "Python 3",
   "language": "python",
   "name": "python3"
  },
  "language_info": {
   "codemirror_mode": {
    "name": "ipython",
    "version": 3
   },
   "file_extension": ".py",
   "mimetype": "text/x-python",
   "name": "python",
   "nbconvert_exporter": "python",
   "pygments_lexer": "ipython3",
   "version": "3.10.8"
  }
 },
 "nbformat": 4,
 "nbformat_minor": 2
}
